{
 "cells": [
  {
   "cell_type": "markdown",
   "id": "a329b8d1",
   "metadata": {},
   "source": [
    "# Full Prophet Model on Complete Dataset (No Downsampling)\n",
    "This notebook is intended to run on a **dedicated server** with sufficient memory. It loads a full-resolution dataset and uses all features of Prophet (trend, seasonalities, holidays, changepoints) to make minute-level forecasts."
   ]
  },
  {
   "cell_type": "code",
   "execution_count": null,
   "id": "5501c163",
   "metadata": {},
   "outputs": [],
   "source": [
    "!pip install prophet openpyxl\n",
    "\n",
    "import pandas as pd\n",
    "import numpy as np\n",
    "import matplotlib.pyplot as plt\n",
    "from prophet import Prophet\n",
    "from sklearn.metrics import mean_absolute_error, mean_squared_error\n",
    "import joblib\n",
    "import os\n",
    "\n",
    "SAVE_DIR = \"prophet_output\"\n",
    "os.makedirs(SAVE_DIR, exist_ok=True)\n",
    "\n",
    "# Load full-resolution dataset\n",
    "df = pd.read_excel(\"usask.sec.min_short_v2.xlsx\")\n",
    "df.columns = ['minute', 'requests']\n",
    "df['minute'] = pd.to_datetime(df['minute'], unit='m', origin='unix')\n",
    "df.rename(columns={'minute': 'ds', 'requests': 'y'}, inplace=True)\n"
   ]
  },
  {
   "cell_type": "code",
   "execution_count": null,
   "id": "da663a39",
   "metadata": {},
   "outputs": [],
   "source": [
    "plt.figure(figsize=(14, 5))\n",
    "plt.plot(df['ds'], df['y'], label='Requests per minute')\n",
    "plt.xlabel(\"Time\")\n",
    "plt.ylabel(\"Requests\")\n",
    "plt.title(\"Original Time Series - Minute Resolution\")\n",
    "plt.grid(True)\n",
    "plt.legend()\n",
    "plt.savefig(f\"{SAVE_DIR}/full_timeseries_plot.png\")\n",
    "plt.show()\n"
   ]
  },
  {
   "cell_type": "code",
   "execution_count": null,
   "id": "4a0d4074",
   "metadata": {},
   "outputs": [],
   "source": [
    "model = Prophet(\n",
    "    growth='linear',\n",
    "    yearly_seasonality=True,\n",
    "    weekly_seasonality=True,\n",
    "    daily_seasonality=True,\n",
    "    changepoint_prior_scale=0.05,\n",
    "    seasonality_prior_scale=10.0,\n",
    "    holidays_prior_scale=10.0,\n",
    "    n_changepoints=25\n",
    ")\n",
    "\n",
    "# Optional: Add hourly seasonality (or others if applicable)\n",
    "model.add_seasonality(name='hourly', period=1, fourier_order=3)\n"
   ]
  },
  {
   "cell_type": "code",
   "execution_count": null,
   "id": "46fb5419",
   "metadata": {},
   "outputs": [],
   "source": [
    "model.fit(df)\n",
    "joblib.dump(model, f\"{SAVE_DIR}/full_model.joblib\")\n"
   ]
  },
  {
   "cell_type": "code",
   "execution_count": null,
   "id": "c346d984",
   "metadata": {},
   "outputs": [],
   "source": [
    "# Forecast next 30 minutes\n",
    "future = model.make_future_dataframe(periods=30, freq='min')\n",
    "forecast = model.predict(future)\n",
    "\n",
    "forecast.to_csv(f\"{SAVE_DIR}/full_forecast.csv\", index=False)\n"
   ]
  },
  {
   "cell_type": "code",
   "execution_count": null,
   "id": "cf85c006",
   "metadata": {},
   "outputs": [],
   "source": [
    "fig1 = model.plot(forecast)\n",
    "fig1.savefig(f\"{SAVE_DIR}/full_forecast_plot.png\")\n",
    "\n",
    "fig2 = model.plot_components(forecast)\n",
    "fig2.savefig(f\"{SAVE_DIR}/full_components_plot.png\")\n"
   ]
  },
  {
   "cell_type": "code",
   "execution_count": null,
   "id": "36495ccb",
   "metadata": {},
   "outputs": [],
   "source": [
    "# Holdout evaluation (last 1 day = 1440 minutes)\n",
    "train = df[:-1440]\n",
    "test = df[-1440:]\n",
    "\n",
    "model_eval = Prophet(\n",
    "    growth='linear',\n",
    "    yearly_seasonality=True,\n",
    "    weekly_seasonality=True,\n",
    "    daily_seasonality=True,\n",
    "    changepoint_prior_scale=0.05,\n",
    "    seasonality_prior_scale=10.0,\n",
    "    holidays_prior_scale=10.0,\n",
    "    n_changepoints=25\n",
    ")\n",
    "model_eval.add_seasonality(name='hourly', period=1, fourier_order=3)\n",
    "model_eval.fit(train)\n",
    "future_eval = model_eval.make_future_dataframe(periods=1440, freq='min')\n",
    "forecast_eval = model_eval.predict(future_eval)\n",
    "\n",
    "# Merge and compute RMSE\n",
    "merged = forecast_eval[['ds', 'yhat']].merge(test, on='ds')\n",
    "rmse = np.sqrt(mean_squared_error(merged['y'], merged['yhat']))\n",
    "mae = mean_absolute_error(merged['y'], merged['yhat'])\n",
    "\n",
    "with open(f\"{SAVE_DIR}/evaluation.txt\", \"w\") as f:\n",
    "    f.write(f\"MAE: {mae:.2f}\\nRMSE: {rmse:.2f}\\n\")\n",
    "\n",
    "print(f\"MAE: {mae:.2f}\")\n",
    "print(f\"RMSE: {rmse:.2f}\")\n"
   ]
  },
  {
   "cell_type": "code",
   "execution_count": null,
   "id": "d768635a",
   "metadata": {},
   "outputs": [],
   "source": [
    "from sklearn.metrics import r2_score, mean_absolute_percentage_error\n",
    "\n",
    "def evaluate_predictions(y_true, y_pred):\n",
    "    mae = mean_absolute_error(y_true, y_pred)\n",
    "    rmse = np.sqrt(mean_squared_error(y_true, y_pred))\n",
    "    r2 = r2_score(y_true, y_pred)\n",
    "    mape = mean_absolute_percentage_error(y_true, y_pred)\n",
    "    accuracy = max(0, 100 * (1 - mape))  # Clip negative accuracy to 0%\n",
    "    return mae, rmse, r2, mape, accuracy\n"
   ]
  },
  {
   "cell_type": "code",
   "execution_count": null,
   "id": "42bacca5",
   "metadata": {},
   "outputs": [],
   "source": [
    "import matplotlib.pyplot as plt\n",
    "\n",
    "# Predict next 1 minute from multiple windows in the last 90 minutes\n",
    "windows = [\n",
    "    ('Window 1 (90 min)', -90),\n",
    "    ('Window 2 (60 min)', -60),\n",
    "    ('Window 3 (45 min)', -45),\n",
    "    ('Window 4 (30 min)', -30),\n",
    "    ('Window 5 (15 min)', -15)\n",
    "]\n",
    "\n",
    "results = []\n",
    "\n",
    "for label, idx in windows:\n",
    "    hist = df[:idx]\n",
    "    test = df[idx:idx+1]\n",
    "\n",
    "    temp_model = Prophet(\n",
    "        growth='linear',\n",
    "        yearly_seasonality=True,\n",
    "        weekly_seasonality=True,\n",
    "        daily_seasonality=True,\n",
    "        changepoint_prior_scale=0.05,\n",
    "        seasonality_prior_scale=10.0,\n",
    "        holidays_prior_scale=10.0,\n",
    "        n_changepoints=25\n",
    "    )\n",
    "    temp_model.add_seasonality(name='hourly', period=1, fourier_order=3)\n",
    "    temp_model.fit(hist)\n",
    "\n",
    "    future = temp_model.make_future_dataframe(periods=1, freq='min')\n",
    "    forecast = temp_model.predict(future)\n",
    "\n",
    "    # Merge and evaluate\n",
    "    merged = forecast[['ds', 'yhat']].merge(test, on='ds')\n",
    "    mae, rmse, r2, mape, accuracy = evaluate_predictions(merged['y'], merged['yhat'])\n",
    "    results.append((label, mae, rmse, r2, mape, accuracy))\n",
    "\n",
    "    # Plot\n",
    "    plt.figure(figsize=(10, 3))\n",
    "    plt.plot(merged['ds'], merged['y'], label='Actual', marker='o')\n",
    "    plt.plot(merged['ds'], merged['yhat'], label='Forecast', marker='x')\n",
    "    plt.title(f'{label}: 1-Minute Forecast')\n",
    "    plt.xlabel(\"Time\")\n",
    "    plt.ylabel(\"Requests\")\n",
    "    plt.legend()\n",
    "    plt.grid(True)\n",
    "    plt.savefig(f\"{SAVE_DIR}/forecast_{label.replace(' ', '_')}.png\")\n",
    "    plt.show()\n"
   ]
  },
  {
   "cell_type": "code",
   "execution_count": null,
   "id": "5cb024d3",
   "metadata": {},
   "outputs": [],
   "source": [
    "import pandas as pd\n",
    "result_df = pd.DataFrame(results, columns=['Window', 'MAE', 'RMSE', 'R2', 'MAPE', 'Accuracy (%)'])\n",
    "result_df.to_csv(f\"{SAVE_DIR}/multi_window_forecast_summary.csv\", index=False)\n",
    "result_df\n"
   ]
  }
 ],
 "metadata": {},
 "nbformat": 4,
 "nbformat_minor": 5
}
