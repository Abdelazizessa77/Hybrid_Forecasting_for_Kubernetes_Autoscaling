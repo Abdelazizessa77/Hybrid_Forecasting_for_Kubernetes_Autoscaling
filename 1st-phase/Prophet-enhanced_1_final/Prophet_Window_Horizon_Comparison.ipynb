{
 "cells": [
  {
   "cell_type": "markdown",
   "id": "7d8dfc97",
   "metadata": {},
   "source": [
    "# Prophet Forecasting Accuracy by Horizon and Window\n",
    "This notebook compares forecasting performance across different time windows and prediction horizons.\n",
    "\n",
    "- **Windows**: Historical starting points (from 90 to 30 minutes ago)\n",
    "- **Horizons**: Forecast lengths (1, 2, 5, 10, 15 minutes)\n",
    "\n",
    "For each combination, a Prophet model is trained and evaluated using MAE, RMSE, R², MAPE, and Accuracy (%)."
   ]
  },
  {
   "cell_type": "code",
   "execution_count": null,
   "id": "584028da",
   "metadata": {},
   "outputs": [],
   "source": [
    "!pip install prophet openpyxl\n",
    "\n",
    "import pandas as pd\n",
    "import numpy as np\n",
    "import matplotlib.pyplot as plt\n",
    "from prophet import Prophet\n",
    "from sklearn.metrics import mean_absolute_error, mean_squared_error, r2_score, mean_absolute_percentage_error\n",
    "import os\n",
    "import joblib\n",
    "\n",
    "SAVE_DIR = \"prophet_range_horizon_output\"\n",
    "os.makedirs(SAVE_DIR, exist_ok=True)\n"
   ]
  },
  {
   "cell_type": "code",
   "execution_count": null,
   "id": "9aeb2638",
   "metadata": {},
   "outputs": [],
   "source": [
    "df = pd.read_excel(\"usask.sec.min_short_v2.xlsx\")\n",
    "df.columns = ['minute', 'requests']\n",
    "df['minute'] = pd.to_datetime(df['minute'], unit='m', origin='unix')\n",
    "df.rename(columns={'minute': 'ds', 'requests': 'y'}, inplace=True)\n"
   ]
  },
  {
   "cell_type": "code",
   "execution_count": null,
   "id": "70a0cf4d",
   "metadata": {},
   "outputs": [],
   "source": [
    "def evaluate_predictions(y_true, y_pred):\n",
    "    mae = mean_absolute_error(y_true, y_pred)\n",
    "    rmse = np.sqrt(mean_squared_error(y_true, y_pred))\n",
    "    r2 = r2_score(y_true, y_pred)\n",
    "    mape = mean_absolute_percentage_error(y_true, y_pred)\n",
    "    accuracy = max(0, 100 * (1 - mape))\n",
    "    return mae, rmse, r2, mape, accuracy\n"
   ]
  },
  {
   "cell_type": "code",
   "execution_count": null,
   "id": "a76b8e31",
   "metadata": {},
   "outputs": [],
   "source": [
    "windows = [-90, -75, -60, -45, -30]  # Historical points (minutes ago)\n",
    "horizons = [1, 2, 5, 10, 15]         # Forecast lengths\n",
    "\n",
    "results = []\n",
    "\n",
    "for win in windows:\n",
    "    for horizon in horizons:\n",
    "        label = f\"Window {abs(win)}min | Horizon {horizon}min\"\n",
    "        hist = df[:win]\n",
    "        test = df[win:win + horizon]\n",
    "\n",
    "        model = Prophet(\n",
    "            growth='linear',\n",
    "            yearly_seasonality=True,\n",
    "            weekly_seasonality=True,\n",
    "            daily_seasonality=True,\n",
    "            changepoint_prior_scale=0.05,\n",
    "            seasonality_prior_scale=10.0,\n",
    "            holidays_prior_scale=10.0,\n",
    "            n_changepoints=25\n",
    "        )\n",
    "        model.add_seasonality(name='hourly', period=1, fourier_order=3)\n",
    "        model.fit(hist)\n",
    "\n",
    "        future = model.make_future_dataframe(periods=horizon, freq='min')\n",
    "        forecast = model.predict(future)\n",
    "\n",
    "        # Evaluate\n",
    "        merged = forecast[['ds', 'yhat']].merge(test, on='ds')\n",
    "        mae, rmse, r2, mape, acc = evaluate_predictions(merged['y'], merged['yhat'])\n",
    "        results.append((abs(win), horizon, mae, rmse, r2, mape, acc))\n",
    "\n",
    "        # Plot\n",
    "        plt.figure(figsize=(10, 3))\n",
    "        plt.plot(merged['ds'], merged['y'], label='Actual', marker='o')\n",
    "        plt.plot(merged['ds'], merged['yhat'], label='Forecast', marker='x')\n",
    "        plt.title(f'{label}')\n",
    "        plt.xlabel(\"Time\"); plt.ylabel(\"Requests\")\n",
    "        plt.legend(); plt.grid(True)\n",
    "        plt.savefig(f\"{SAVE_DIR}/forecast_{abs(win)}min_{horizon}min.png\")\n",
    "        plt.show()\n"
   ]
  },
  {
   "cell_type": "code",
   "execution_count": null,
   "id": "2be6a7b2",
   "metadata": {},
   "outputs": [],
   "source": [
    "result_df = pd.DataFrame(results, columns=['Window (min ago)', 'Horizon (min)', 'MAE', 'RMSE', 'R2', 'MAPE', 'Accuracy (%)'])\n",
    "result_df.to_csv(f\"{SAVE_DIR}/window_horizon_forecast_summary.csv\", index=False)\n",
    "result_df\n"
   ]
  }
 ],
 "metadata": {},
 "nbformat": 4,
 "nbformat_minor": 5
}
